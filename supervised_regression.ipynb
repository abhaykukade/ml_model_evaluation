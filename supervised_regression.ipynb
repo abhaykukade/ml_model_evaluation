{
 "cells": [
  {
   "cell_type": "markdown",
   "id": "20df1d3f",
   "metadata": {},
   "source": [
    "## Import packages"
   ]
  },
  {
   "cell_type": "code",
   "execution_count": 64,
   "id": "95b68536",
   "metadata": {},
   "outputs": [],
   "source": [
    "import pandas as pd\n",
    "import matplotlib.pyplot as plt\n",
    "import numpy as np\n",
    "from sklearn.datasets import load_diabetes\n",
    "from sklearn.model_selection import train_test_split\n",
    "from sklearn.linear_model import LinearRegression, Ridge, Lasso\n",
    "from sklearn.preprocessing import PolynomialFeatures"
   ]
  },
  {
   "cell_type": "markdown",
   "id": "b1fc05c1",
   "metadata": {},
   "source": [
    "## Data"
   ]
  },
  {
   "cell_type": "code",
   "execution_count": 6,
   "id": "dfcc652b",
   "metadata": {},
   "outputs": [],
   "source": [
    "diabetes = load_diabetes()"
   ]
  },
  {
   "cell_type": "code",
   "execution_count": 7,
   "id": "071cc6ad",
   "metadata": {},
   "outputs": [
    {
     "data": {
      "text/plain": [
       "dict_keys(['data', 'target', 'frame', 'DESCR', 'feature_names', 'data_filename', 'target_filename', 'data_module'])"
      ]
     },
     "execution_count": 7,
     "metadata": {},
     "output_type": "execute_result"
    }
   ],
   "source": [
    "diabetes.keys()"
   ]
  },
  {
   "cell_type": "code",
   "execution_count": 21,
   "id": "1d9923ce",
   "metadata": {},
   "outputs": [
    {
     "name": "stdout",
     "output_type": "stream",
     "text": [
      ".. _diabetes_dataset:\n",
      "\n",
      "Diabetes dataset\n",
      "----------------\n",
      "\n",
      "Ten baseline variables, age, sex, body mass index, average blood\n",
      "pressure, and six blood serum measurements were obtained for each of n =\n",
      "442 diabetes patients, as well as the response of interest, a\n",
      "quantitative measure of disease progression one year after baseline.\n",
      "\n",
      "**Data Set Characteristics:**\n",
      "\n",
      ":Number of Instances: 442\n",
      "\n",
      ":Number of Attributes: First 10 columns are numeric predictive values\n",
      "\n",
      ":Target: Column 11 is a quantitative measure of disease progression one year after baseline\n"
     ]
    }
   ],
   "source": [
    "print(diabetes.DESCR[:548])"
   ]
  },
  {
   "cell_type": "code",
   "execution_count": 23,
   "id": "25ea3ba9",
   "metadata": {},
   "outputs": [
    {
     "name": "stdout",
     "output_type": "stream",
     "text": [
      "(442, 10)\n",
      "['age', 'sex', 'bmi', 'bp', 's1', 's2', 's3', 's4', 's5', 's6']\n"
     ]
    }
   ],
   "source": [
    "print(diabetes.data.shape)\n",
    "print(diabetes.feature_names)"
   ]
  },
  {
   "cell_type": "code",
   "execution_count": 24,
   "id": "bcb80a61",
   "metadata": {},
   "outputs": [
    {
     "name": "stdout",
     "output_type": "stream",
     "text": [
      "(442,)\n",
      "[151.  75. 141. 206. 135.  97. 138.  63. 110. 310.]\n"
     ]
    }
   ],
   "source": [
    "print(diabetes['target'].shape)\n",
    "print(diabetes['target'][:10])"
   ]
  },
  {
   "cell_type": "code",
   "execution_count": 27,
   "id": "db6f4fcc",
   "metadata": {},
   "outputs": [
    {
     "name": "stdout",
     "output_type": "stream",
     "text": [
      "[[ 0.03807591  0.05068012  0.06169621  0.02187239 -0.0442235  -0.03482076]\n",
      " [-0.00188202 -0.04464164 -0.05147406 -0.02632753 -0.00844872 -0.01916334]\n",
      " [ 0.08529891  0.05068012  0.04445121 -0.00567042 -0.04559945 -0.03419447]\n",
      " [-0.08906294 -0.04464164 -0.01159501 -0.03665608  0.01219057  0.02499059]\n",
      " [ 0.00538306 -0.04464164 -0.03638469  0.02187239  0.00393485  0.01559614]\n",
      " [-0.09269548 -0.04464164 -0.04069594 -0.01944183 -0.06899065 -0.07928784]\n",
      " [-0.04547248  0.05068012 -0.04716281 -0.01599898 -0.04009564 -0.02480001]\n",
      " [ 0.06350368  0.05068012 -0.00189471  0.06662945  0.09061988  0.10891438]\n",
      " [ 0.04170844  0.05068012  0.06169621 -0.04009893 -0.01395254  0.00620169]\n",
      " [-0.07090025 -0.04464164  0.03906215 -0.03321323 -0.01257658 -0.03450761]]\n"
     ]
    }
   ],
   "source": [
    "print(diabetes['data'][:10,:6])"
   ]
  },
  {
   "cell_type": "markdown",
   "id": "e86465ac",
   "metadata": {},
   "source": [
    "## Linear Regression (OLS)"
   ]
  },
  {
   "cell_type": "code",
   "execution_count": 28,
   "id": "257f4662",
   "metadata": {},
   "outputs": [],
   "source": [
    "X_train, X_test, y_train, y_test = train_test_split(diabetes['data'], diabetes['target'], random_state=42)"
   ]
  },
  {
   "cell_type": "code",
   "execution_count": 30,
   "id": "d4ebc011",
   "metadata": {},
   "outputs": [],
   "source": [
    "lr = LinearRegression().fit(X_train, y_train)"
   ]
  },
  {
   "cell_type": "markdown",
   "id": "6d752928",
   "metadata": {},
   "source": [
    "Coefficients and Intercept"
   ]
  },
  {
   "cell_type": "code",
   "execution_count": 31,
   "id": "239fa752",
   "metadata": {},
   "outputs": [
    {
     "name": "stdout",
     "output_type": "stream",
     "text": [
      "Coefficients:\n",
      "[  47.74968054 -241.99090728  531.97106288  381.56286182 -918.50290455\n",
      "  508.25778252  116.95016447  269.4923028   695.80811712   26.32458203]\n",
      "Intercept: 151.6651755919933\n"
     ]
    }
   ],
   "source": [
    "print(f'Coefficients:\\n{lr.coef_}')\n",
    "print(f'Intercept: {lr.intercept_}')"
   ]
  },
  {
   "cell_type": "code",
   "execution_count": 32,
   "id": "aabfbd72",
   "metadata": {},
   "outputs": [
    {
     "name": "stdout",
     "output_type": "stream",
     "text": [
      "Training set score: 0.52\n",
      "Test set score: 0.48\n"
     ]
    }
   ],
   "source": [
    "print(f'Training set score: {lr.score(X_train, y_train):.2f}')\n",
    "print(f'Test set score: {lr.score(X_test, y_test):.2f}')"
   ]
  },
  {
   "cell_type": "markdown",
   "id": "20c23de0",
   "metadata": {},
   "source": [
    "## Feature Engineering"
   ]
  },
  {
   "cell_type": "markdown",
   "id": "74a898f3",
   "metadata": {},
   "source": [
    "2nd order features"
   ]
  },
  {
   "cell_type": "code",
   "execution_count": 49,
   "id": "52dc977a",
   "metadata": {},
   "outputs": [
    {
     "name": "stdout",
     "output_type": "stream",
     "text": [
      "Shape of original data: (442, 10)\n",
      "Shape of 2nd order features: (442, 65)\n"
     ]
    }
   ],
   "source": [
    "poly = PolynomialFeatures(degree=2, include_bias=False)\n",
    "diabetes_data_2nd_order = poly.fit_transform(diabetes['data'])\n",
    "print(f\"Shape of original data: {diabetes['data'].shape}\")\n",
    "print(f\"Shape of 2nd order features: {diabetes_data_2nd_order.shape}\")"
   ]
  },
  {
   "cell_type": "markdown",
   "id": "0751477b",
   "metadata": {},
   "source": [
    "## Model Performance using 2nd order features"
   ]
  },
  {
   "cell_type": "code",
   "execution_count": 50,
   "id": "3b38b728",
   "metadata": {},
   "outputs": [],
   "source": [
    "X_train2, X_test2, y_train2, y_test2 = train_test_split(diabetes_data_2nd_order, diabetes['target'], random_state=42)"
   ]
  },
  {
   "cell_type": "code",
   "execution_count": 51,
   "id": "b13051a8",
   "metadata": {},
   "outputs": [],
   "source": [
    "lr2 = LinearRegression().fit(X_train2, y_train2)"
   ]
  },
  {
   "cell_type": "code",
   "execution_count": 52,
   "id": "704a39a4",
   "metadata": {},
   "outputs": [
    {
     "name": "stdout",
     "output_type": "stream",
     "text": [
      "2nd order Training set score: 0.60\n",
      "2nd order Test set score: 0.42\n"
     ]
    }
   ],
   "source": [
    "print(f'2nd order Training set score: {lr2.score(X_train2, y_train2):.2f}')\n",
    "print(f'2nd order Test set score: {lr2.score(X_test2, y_test2):.2f}')"
   ]
  },
  {
   "cell_type": "markdown",
   "id": "2bc2db11",
   "metadata": {},
   "source": [
    "## Ridge Regression"
   ]
  },
  {
   "cell_type": "code",
   "execution_count": 53,
   "id": "cda9f3e8",
   "metadata": {},
   "outputs": [
    {
     "name": "stdout",
     "output_type": "stream",
     "text": [
      "Ridge Model scores:\n",
      "Training set score: 0.43\n",
      "Test set score: 0.44\n"
     ]
    }
   ],
   "source": [
    "ridge = Ridge().fit(X_train2, y_train2)\n",
    "print('Ridge Model scores:')\n",
    "print(\"Training set score: {:.2f}\".format(ridge.score(X_train2, y_train2)))\n",
    "print(\"Test set score: {:.2f}\".format(ridge.score(X_test2, y_test2)))"
   ]
  },
  {
   "cell_type": "markdown",
   "id": "cb7a08c9",
   "metadata": {},
   "source": [
    "ridge with alpha value as 0.1"
   ]
  },
  {
   "cell_type": "code",
   "execution_count": 58,
   "id": "b3440119",
   "metadata": {},
   "outputs": [
    {
     "name": "stdout",
     "output_type": "stream",
     "text": [
      "Ridge Model scores with alpha 0.1:\n",
      "Training set score: 0.51\n",
      "Test set score: 0.50\n"
     ]
    }
   ],
   "source": [
    "ridge01 = Ridge(alpha=0.1).fit(X_train2, y_train2)\n",
    "print('Ridge Model scores with alpha 0.1:')\n",
    "print(\"Training set score: {:.2f}\".format(ridge01.score(X_train2, y_train2)))\n",
    "print(\"Test set score: {:.2f}\".format(ridge01.score(X_test2, y_test2)))"
   ]
  },
  {
   "cell_type": "markdown",
   "id": "da150d0f",
   "metadata": {},
   "source": [
    "Ridge Model scores with alpha 0.05:\n",
    "\n",
    "Training set score: 0.52\n",
    "Test set score: 0.50"
   ]
  },
  {
   "cell_type": "code",
   "execution_count": 63,
   "id": "eb79887b",
   "metadata": {},
   "outputs": [
    {
     "data": {
      "text/plain": [
       "<matplotlib.legend.Legend at 0x20875a850a0>"
      ]
     },
     "execution_count": 63,
     "metadata": {},
     "output_type": "execute_result"
    },
    {
     "data": {
      "image/png": "[encoded data removed]",
      "text/plain": [
       "<Figure size 640x480 with 1 Axes>"
      ]
     },
     "metadata": {},
     "output_type": "display_data"
    }
   ],
   "source": [
    "plt.plot(ridge.coef_, 's', label='Ridge alpha=1')\n",
    "plt.plot(ridge01.coef_, '^', label='Ridge alpha=0.1')\n",
    "plt.plot(lr2.coef_, 'o', label='Linear Regression')\n",
    "plt.xlabel('Coefficient Index')\n",
    "plt.ylabel('Coeff Magnitude')\n",
    "plt.hlines(0,0,len(lr2.coef_))\n",
    "plt.ylim(-100,100)\n",
    "plt.legend()"
   ]
  },
  {
   "cell_type": "markdown",
   "id": "ce04411f",
   "metadata": {},
   "source": [
    "## Lasso"
   ]
  },
  {
   "cell_type": "code",
   "execution_count": 65,
   "id": "9a3df9fd",
   "metadata": {},
   "outputs": [
    {
     "name": "stdout",
     "output_type": "stream",
     "text": [
      "Training set score: 0.35\n",
      "Test set score: 0.38\n",
      "Number of features used: 3\n"
     ]
    }
   ],
   "source": [
    "lasso = Lasso().fit(X_train2, y_train2)\n",
    "print(\"Training set score: {:.2f}\".format(lasso.score(X_train2, y_train2)))\n",
    "print(\"Test set score: {:.2f}\".format(lasso.score(X_test2, y_test2)))\n",
    "print(\"Number of features used: {}\".format(np.sum(lasso.coef_ != 0)))"
   ]
  },
  {
   "cell_type": "markdown",
   "id": "b8a48033",
   "metadata": {},
   "source": [
    "Lasso with alpha 0.1"
   ]
  },
  {
   "cell_type": "code",
   "execution_count": 68,
   "id": "4b3c884c",
   "metadata": {},
   "outputs": [
    {
     "name": "stdout",
     "output_type": "stream",
     "text": [
      "Training set score: 0.51\n",
      "Test set score: 0.50\n",
      "Number of features used: 7\n"
     ]
    }
   ],
   "source": [
    "lasso01 = Lasso(alpha=0.1, max_iter=10000).fit(X_train2, y_train2)\n",
    "print(\"Training set score: {:.2f}\".format(lasso01.score(X_train2, y_train2)))\n",
    "print(\"Test set score: {:.2f}\".format(lasso01.score(X_test2, y_test2)))\n",
    "print(\"Number of features used: {}\".format(np.sum(lasso01.coef_ != 0)))"
   ]
  },
  {
   "cell_type": "markdown",
   "id": "b7e1f786",
   "metadata": {},
   "source": [
    "Alpha 0.01:\n",
    "\n",
    "Training set score: 0.54\n",
    "Test set score: 0.51\n",
    "Number of features used: 16"
   ]
  },
  {
   "cell_type": "markdown",
   "id": "39c83b71",
   "metadata": {},
   "source": [
    "Selected features with alpha=0.1"
   ]
  },
  {
   "cell_type": "code",
   "execution_count": 72,
   "id": "531e8266",
   "metadata": {},
   "outputs": [
    {
     "name": "stdout",
     "output_type": "stream",
     "text": [
      "Selected features with non-zero coefficients:\n",
      "['sex', 'bmi', 'bp', 's1', 's3', 's5', 's6']\n"
     ]
    }
   ],
   "source": [
    "original_feature_names = diabetes['feature_names']\n",
    "poly_feature_names = poly.get_feature_names_out(original_feature_names)\n",
    "\n",
    "selected_features = [name for coef, name in zip(lasso01.coef_, poly_feature_names) if coef != 0]\n",
    "\n",
    "print(\"Selected features with non-zero coefficients:\")\n",
    "print(selected_features)"
   ]
  }
 ],
 "metadata": {
  "kernelspec": {
   "display_name": "base",
   "language": "python",
   "name": "python3"
  },
  "language_info": {
   "codemirror_mode": {
    "name": "ipython",
    "version": 3
   },
   "file_extension": ".py",
   "mimetype": "text/x-python",
   "name": "python",
   "nbconvert_exporter": "python",
   "pygments_lexer": "ipython3",
   "version": "3.12.7"
  }
 },
 "nbformat": 4,
 "nbformat_minor": 5
}
